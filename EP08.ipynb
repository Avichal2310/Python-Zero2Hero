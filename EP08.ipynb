{
 "cells": [
  {
   "cell_type": "code",
   "execution_count": 1,
   "metadata": {},
   "outputs": [
    {
     "name": "stdout",
     "output_type": "stream",
     "text": [
      "Enter an integer number\n",
      "5\n",
      "Odd\n"
     ]
    }
   ],
   "source": [
    "# Write a program to input a number and check it to be even or odd\n",
    "print(\"Enter an integer number\")\n",
    "num=int(input())\n",
    "if num%2==0:\n",
    "    print(\"Even\")\n",
    "else:\n",
    "    print(\"Odd\")"
   ]
  },
  {
   "cell_type": "code",
   "execution_count": 4,
   "metadata": {},
   "outputs": [
    {
     "name": "stdout",
     "output_type": "stream",
     "text": [
      "Enter a year\n",
      "2024\n",
      "Leap Year\n"
     ]
    }
   ],
   "source": [
    "# Write a program to input a year and check it to be leap year\n",
    "print(\"Enter a year\")\n",
    "year=int(input())\n",
    "\n",
    "if year%4==0 and year%100!=0 or year%400==0:\n",
    "    print(\"Leap Year\")\n",
    "else:\n",
    "    print(\"Not a leap year\")"
   ]
  },
  {
   "cell_type": "code",
   "execution_count": 56,
   "metadata": {
    "scrolled": true
   },
   "outputs": [
    {
     "name": "stdout",
     "output_type": "stream",
     "text": [
      "Enter two numbers : \n",
      "9 78\n",
      "78.0\n"
     ]
    }
   ],
   "source": [
    "#WAP to input 2 floating numbers and print the bigger number\n",
    "print(\"Enter two numbers : \")\n",
    "a,b=map(float, input().split(' '))\n",
    "if a>b:\n",
    "    print(a)\n",
    "else:\n",
    "    print(b)"
   ]
  },
  {
   "cell_type": "code",
   "execution_count": 58,
   "metadata": {},
   "outputs": [
    {
     "name": "stdout",
     "output_type": "stream",
     "text": [
      "Enter a number : \n",
      "55\n",
      "Yes\n"
     ]
    }
   ],
   "source": [
    "#WAP to input a number and check it to be divisible by 5 and 11. If condition is true print Yes else No\n",
    "print(\"Enter a number : \")\n",
    "n=int(input())\n",
    "if n%5==0 and n%11==0:\n",
    "    print(\"Yes\")\n",
    "else:\n",
    "    print(\"No\")"
   ]
  },
  {
   "cell_type": "code",
   "execution_count": 37,
   "metadata": {
    "scrolled": true
   },
   "outputs": [
    {
     "name": "stdout",
     "output_type": "stream",
     "text": [
      "Enter an alphabet : \n",
      "e\n",
      "Vowel\n"
     ]
    }
   ],
   "source": [
    "#WAP to input an alphabet and check it to be vowel or consonant\n",
    "print(\"Enter an alphabet : \")\n",
    "a=input()\n",
    "if a in \"aeiouAEIOU\":\n",
    "    print(\"Vowel\")\n",
    "else:\n",
    "    print(\"Consonant\")"
   ]
  },
  {
   "cell_type": "code",
   "execution_count": 50,
   "metadata": {},
   "outputs": [
    {
     "name": "stdout",
     "output_type": "stream",
     "text": [
      "Enter a character : \n",
      "D\n",
      "Upper\n"
     ]
    }
   ],
   "source": [
    "#WAP to input a character and check it to be an upper alphabet or lower alphabet\n",
    "print(\"Enter a character : \")\n",
    "c=input()\n",
    "if c>='A' and c<='Z':\n",
    "    print(\"Upper\")\n",
    "else:\n",
    "    print(\"Lower\")"
   ]
  },
  {
   "cell_type": "code",
   "execution_count": null,
   "metadata": {},
   "outputs": [],
   "source": []
  }
 ],
 "metadata": {
  "kernelspec": {
   "display_name": "Python 3",
   "language": "python",
   "name": "python3"
  },
  "language_info": {
   "codemirror_mode": {
    "name": "ipython",
    "version": 3
   },
   "file_extension": ".py",
   "mimetype": "text/x-python",
   "name": "python",
   "nbconvert_exporter": "python",
   "pygments_lexer": "ipython3",
   "version": "3.8.5"
  }
 },
 "nbformat": 4,
 "nbformat_minor": 4
}
