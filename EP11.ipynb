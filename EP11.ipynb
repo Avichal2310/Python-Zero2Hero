{
 "cells": [
  {
   "cell_type": "code",
   "execution_count": 1,
   "metadata": {},
   "outputs": [
    {
     "name": "stdout",
     "output_type": "stream",
     "text": [
      "Input: 9\n",
      "9 x 1 = 9\n",
      "9 x 2 = 18\n",
      "9 x 3 = 27\n",
      "9 x 4 = 36\n",
      "9 x 5 = 45\n",
      "9 x 6 = 54\n",
      "9 x 7 = 63\n",
      "9 x 8 = 72\n",
      "9 x 9 = 81\n",
      "9 x 10 = 90\n"
     ]
    }
   ],
   "source": [
    "# WAP to input a number and show table of that number in following format\n",
    "\n",
    "# Input: 9\n",
    "# Output:\n",
    "# 9 x 1 = 9\n",
    "# 9 x 2 = 18\n",
    "# ...\n",
    "# 9 x 10= 90\n",
    "\n",
    "# Here we have initalize the counter from 1, execute the statement till counter is less than or equals to 10 \n",
    "# and increment the counter by 1\n",
    "\n",
    "n=int(input(\"Input: \"))\n",
    "counter=1\n",
    "while counter<=10:\n",
    "    print(f\"{n} x {counter} = {n*counter}\")\n",
    "    counter+=1"
   ]
  },
  {
   "cell_type": "code",
   "execution_count": 3,
   "metadata": {},
   "outputs": [
    {
     "name": "stdout",
     "output_type": "stream",
     "text": [
      "Input: 1974\n",
      "Output: 21\n"
     ]
    }
   ],
   "source": [
    "# WAP to input a number and print sum of digits in that number\n",
    "\n",
    "n=int(input(\"Input: \"))\n",
    "sum=0\n",
    "while n>0:\n",
    "    sum=sum+n%10\n",
    "    n=n//10\n",
    "print(f\"Output: {sum}\")"
   ]
  },
  {
   "cell_type": "code",
   "execution_count": 4,
   "metadata": {
    "scrolled": true
   },
   "outputs": [
    {
     "name": "stdout",
     "output_type": "stream",
     "text": [
      "Enter a number : 9\n",
      "9 x 1\n",
      "9 x 2\n",
      "9 x 3\n",
      "9 x 4\n",
      "9 x 5\n",
      "9 x 6\n",
      "9 x 7\n",
      "9 x 8\n",
      "9 x 9\n",
      "9 x 10\n",
      "Create more tables [Yes/No] ? y\n",
      "Enter a number : 34\n",
      "34 x 1\n",
      "34 x 2\n",
      "34 x 3\n",
      "34 x 4\n",
      "34 x 5\n",
      "34 x 6\n",
      "34 x 7\n",
      "34 x 8\n",
      "34 x 9\n",
      "34 x 10\n",
      "Create more tables [Yes/No] ? No\n"
     ]
    }
   ],
   "source": [
    "# WAP to input a number and print table of that number Once the table get printed, \n",
    "# ask the user to print more tables If the user say No then stop the program and \n",
    "# input a new number again and show table of that number \n",
    "\n",
    "while True:\n",
    "    n=input(\"Enter a number : \")\n",
    "    counter=1\n",
    "    while counter<=10:\n",
    "        print(f\"{n} x {counter}\")\n",
    "        counter+=1\n",
    "    ans=input(\"Create more tables [Yes/No] ? \")\n",
    "    if ans==\"No\": break"
   ]
  },
  {
   "cell_type": "code",
   "execution_count": null,
   "metadata": {},
   "outputs": [],
   "source": []
  }
 ],
 "metadata": {
  "kernelspec": {
   "display_name": "Python 3",
   "language": "python",
   "name": "python3"
  },
  "language_info": {
   "codemirror_mode": {
    "name": "ipython",
    "version": 3
   },
   "file_extension": ".py",
   "mimetype": "text/x-python",
   "name": "python",
   "nbconvert_exporter": "python",
   "pygments_lexer": "ipython3",
   "version": "3.8.5"
  }
 },
 "nbformat": 4,
 "nbformat_minor": 4
}
