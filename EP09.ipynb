{
 "cells": [
  {
   "cell_type": "code",
   "execution_count": 27,
   "metadata": {},
   "outputs": [
    {
     "name": "stdout",
     "output_type": "stream",
     "text": [
      "Enter a character qfdvhu8dy7q12327rt!#$^\n",
      "qfdvhu8dy7q12327rt!#$^ is special character\n"
     ]
    }
   ],
   "source": [
    "# WAP to input a character and check it to be alphabet, digit or special character\n",
    "ch=input(\"Enter a character \")\n",
    "if ch.isalpha():\n",
    "    print(ch,\"is an alphabet\")\n",
    "elif ch.isdigit():\n",
    "    print(ch,\"is a digit\")\n",
    "else:\n",
    "    print(ch,\"is special character\")"
   ]
  },
  {
   "cell_type": "code",
   "execution_count": 30,
   "metadata": {},
   "outputs": [
    {
     "name": "stdout",
     "output_type": "stream",
     "text": [
      "Enter three numbers\n",
      "3 6 4\n",
      "6 is biggest\n"
     ]
    }
   ],
   "source": [
    "# WAP to input three numbers and show the biggest one\n",
    "print(\"Enter three numbers\")\n",
    "a,b,c=map(int,input().split())\n",
    "\n",
    "if a>b and a>c: print(a,\"is biggest\")\n",
    "elif b>c: print(b,\"is biggest\")\n",
    "else: print(c,\"is biggest\")"
   ]
  },
  {
   "cell_type": "code",
   "execution_count": 34,
   "metadata": {},
   "outputs": [
    {
     "name": "stdout",
     "output_type": "stream",
     "text": [
      "Enter an alphabet 43tr4et45h093ut@#!!#\n",
      "43tr4et45h093ut@#!!# is not an alphabet\n"
     ]
    }
   ],
   "source": [
    "# WAP to input an alphabet and check it to be upper alphabet or lower alphabet\n",
    "ch=input(\"Enter an alphabet \")\n",
    "if ch.isalpha():\n",
    "    if ch.isupper():\n",
    "        print(ch,\"is upper alphabet\")\n",
    "    else:\n",
    "        print(ch,\"is lower alphabet\")\n",
    "else:\n",
    "    print(ch,\"is not an alphabet\")"
   ]
  },
  {
   "cell_type": "code",
   "execution_count": 40,
   "metadata": {},
   "outputs": [
    {
     "name": "stdout",
     "output_type": "stream",
     "text": [
      "Enter an alphabet R\n",
      "R is a consonant\n"
     ]
    }
   ],
   "source": [
    "# WAP to input an alphabet and check it to be vowel or consonant\n",
    "ch=input(\"Enter an alphabet \")\n",
    "if ch.isalpha():\n",
    "    if ch.lower() in \"aeiou\":\n",
    "        print(ch,\"is a vowel\")\n",
    "    else:\n",
    "        print(ch,\"is a consonant\")\n",
    "else:\n",
    "    print(ch,\"is not an alphabet\")"
   ]
  },
  {
   "cell_type": "code",
   "execution_count": null,
   "metadata": {},
   "outputs": [],
   "source": []
  },
  {
   "cell_type": "code",
   "execution_count": null,
   "metadata": {},
   "outputs": [],
   "source": []
  }
 ],
 "metadata": {
  "kernelspec": {
   "display_name": "Python 3",
   "language": "python",
   "name": "python3"
  },
  "language_info": {
   "codemirror_mode": {
    "name": "ipython",
    "version": 3
   },
   "file_extension": ".py",
   "mimetype": "text/x-python",
   "name": "python",
   "nbconvert_exporter": "python",
   "pygments_lexer": "ipython3",
   "version": "3.8.5"
  }
 },
 "nbformat": 4,
 "nbformat_minor": 4
}
